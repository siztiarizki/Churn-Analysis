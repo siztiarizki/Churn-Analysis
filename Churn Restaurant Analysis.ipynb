{
 "cells": [
  {
   "cell_type": "markdown",
   "metadata": {},
   "source": [
    "<h1><center>Customer Churn at Restaurant Marketplace Analysis</center></h1>\n",
    "\n",
    "<center><img src=\"https://cdn.dribbble.com/users/2155131/screenshots/16416694/media/b0da9c553e7e35c242fc119de521c52f.jpg?compress=1&resize=400x300&vertical=top\"></center>\n",
    "\n",
    "<center> credit img : https://dribbble.com/shots/16416694-Steak-icon-illustration </center>"
   ]
  },
  {
   "cell_type": "code",
   "execution_count": 49,
   "metadata": {},
   "outputs": [],
   "source": [
    "import pandas as pd\n",
    "import xgboost as xgb\n",
    "import numpy as np\n",
    "import matplotlib.mlab as mlab\n",
    "import matplotlib.pyplot as plt\n",
    "from sklearn.model_selection import train_test_split\n",
    "import seaborn as sns"
   ]
  },
  {
   "cell_type": "markdown",
   "metadata": {},
   "source": [
    "## Open Dataset"
   ]
  },
  {
   "cell_type": "code",
   "execution_count": 50,
   "metadata": {},
   "outputs": [
    {
     "name": "stderr",
     "output_type": "stream",
     "text": [
      "C:\\Users\\IDMARCO\\Anaconda3\\lib\\site-packages\\IPython\\core\\interactiveshell.py:3049: DtypeWarning: Columns (15,16,18,19,20) have mixed types. Specify dtype option on import or set low_memory=False.\n",
      "  interactivity=interactivity, compiler=compiler, result=result)\n"
     ]
    },
    {
     "data": {
      "text/html": [
       "<div>\n",
       "<style scoped>\n",
       "    .dataframe tbody tr th:only-of-type {\n",
       "        vertical-align: middle;\n",
       "    }\n",
       "\n",
       "    .dataframe tbody tr th {\n",
       "        vertical-align: top;\n",
       "    }\n",
       "\n",
       "    .dataframe thead th {\n",
       "        text-align: right;\n",
       "    }\n",
       "</style>\n",
       "<table border=\"1\" class=\"dataframe\">\n",
       "  <thead>\n",
       "    <tr style=\"text-align: right;\">\n",
       "      <th></th>\n",
       "      <th>akeed_order_id</th>\n",
       "      <th>customer_id</th>\n",
       "      <th>item_count</th>\n",
       "      <th>grand_total</th>\n",
       "      <th>payment_mode</th>\n",
       "      <th>promo_code</th>\n",
       "      <th>vendor_discount_amount</th>\n",
       "      <th>promo_code_discount_percentage</th>\n",
       "      <th>is_favorite</th>\n",
       "      <th>is_rated</th>\n",
       "      <th>...</th>\n",
       "      <th>driver_accepted_time</th>\n",
       "      <th>ready_for_pickup_time</th>\n",
       "      <th>picked_up_time</th>\n",
       "      <th>delivered_time</th>\n",
       "      <th>delivery_date</th>\n",
       "      <th>vendor_id</th>\n",
       "      <th>created_at</th>\n",
       "      <th>LOCATION_NUMBER</th>\n",
       "      <th>LOCATION_TYPE</th>\n",
       "      <th>CID X LOC_NUM X VENDOR</th>\n",
       "    </tr>\n",
       "  </thead>\n",
       "  <tbody>\n",
       "    <tr>\n",
       "      <th>0</th>\n",
       "      <td>163238.0</td>\n",
       "      <td>92PEE24</td>\n",
       "      <td>1.0</td>\n",
       "      <td>7.6</td>\n",
       "      <td>2</td>\n",
       "      <td>NaN</td>\n",
       "      <td>0.0</td>\n",
       "      <td>NaN</td>\n",
       "      <td>NaN</td>\n",
       "      <td>No</td>\n",
       "      <td>...</td>\n",
       "      <td>NaN</td>\n",
       "      <td>NaN</td>\n",
       "      <td>NaN</td>\n",
       "      <td>NaN</td>\n",
       "      <td>2019-07-31 05:30:00</td>\n",
       "      <td>105</td>\n",
       "      <td>2019-08-01 05:30:16</td>\n",
       "      <td>0</td>\n",
       "      <td>NaN</td>\n",
       "      <td>92PEE24 X 0 X 105</td>\n",
       "    </tr>\n",
       "    <tr>\n",
       "      <th>1</th>\n",
       "      <td>163240.0</td>\n",
       "      <td>QS68UD8</td>\n",
       "      <td>1.0</td>\n",
       "      <td>8.7</td>\n",
       "      <td>1</td>\n",
       "      <td>NaN</td>\n",
       "      <td>0.0</td>\n",
       "      <td>NaN</td>\n",
       "      <td>NaN</td>\n",
       "      <td>No</td>\n",
       "      <td>...</td>\n",
       "      <td>NaN</td>\n",
       "      <td>NaN</td>\n",
       "      <td>NaN</td>\n",
       "      <td>NaN</td>\n",
       "      <td>2019-07-31 05:30:00</td>\n",
       "      <td>294</td>\n",
       "      <td>2019-08-01 05:31:10</td>\n",
       "      <td>0</td>\n",
       "      <td>Work</td>\n",
       "      <td>QS68UD8 X 0 X 294</td>\n",
       "    </tr>\n",
       "    <tr>\n",
       "      <th>2</th>\n",
       "      <td>163241.0</td>\n",
       "      <td>MB7VY5F</td>\n",
       "      <td>2.0</td>\n",
       "      <td>14.4</td>\n",
       "      <td>1</td>\n",
       "      <td>NaN</td>\n",
       "      <td>0.0</td>\n",
       "      <td>NaN</td>\n",
       "      <td>NaN</td>\n",
       "      <td>No</td>\n",
       "      <td>...</td>\n",
       "      <td>NaN</td>\n",
       "      <td>NaN</td>\n",
       "      <td>NaN</td>\n",
       "      <td>NaN</td>\n",
       "      <td>2019-07-31 05:30:00</td>\n",
       "      <td>83</td>\n",
       "      <td>2019-08-01 05:31:33</td>\n",
       "      <td>0</td>\n",
       "      <td>NaN</td>\n",
       "      <td>MB7VY5F X 0 X 83</td>\n",
       "    </tr>\n",
       "    <tr>\n",
       "      <th>3</th>\n",
       "      <td>163244.0</td>\n",
       "      <td>KDJ951Y</td>\n",
       "      <td>1.0</td>\n",
       "      <td>7.1</td>\n",
       "      <td>1</td>\n",
       "      <td>NaN</td>\n",
       "      <td>0.0</td>\n",
       "      <td>NaN</td>\n",
       "      <td>NaN</td>\n",
       "      <td>No</td>\n",
       "      <td>...</td>\n",
       "      <td>NaN</td>\n",
       "      <td>NaN</td>\n",
       "      <td>NaN</td>\n",
       "      <td>NaN</td>\n",
       "      <td>2019-07-31 05:30:00</td>\n",
       "      <td>90</td>\n",
       "      <td>2019-08-01 05:34:54</td>\n",
       "      <td>0</td>\n",
       "      <td>Home</td>\n",
       "      <td>KDJ951Y X 0 X 90</td>\n",
       "    </tr>\n",
       "    <tr>\n",
       "      <th>4</th>\n",
       "      <td>163245.0</td>\n",
       "      <td>BAL0RVT</td>\n",
       "      <td>4.0</td>\n",
       "      <td>27.2</td>\n",
       "      <td>1</td>\n",
       "      <td>NaN</td>\n",
       "      <td>0.0</td>\n",
       "      <td>NaN</td>\n",
       "      <td>NaN</td>\n",
       "      <td>No</td>\n",
       "      <td>...</td>\n",
       "      <td>NaN</td>\n",
       "      <td>NaN</td>\n",
       "      <td>NaN</td>\n",
       "      <td>NaN</td>\n",
       "      <td>2019-07-31 05:30:00</td>\n",
       "      <td>83</td>\n",
       "      <td>2019-08-01 05:35:51</td>\n",
       "      <td>0</td>\n",
       "      <td>Work</td>\n",
       "      <td>BAL0RVT X 0 X 83</td>\n",
       "    </tr>\n",
       "  </tbody>\n",
       "</table>\n",
       "<p>5 rows × 26 columns</p>\n",
       "</div>"
      ],
      "text/plain": [
       "   akeed_order_id customer_id  item_count  grand_total  payment_mode  \\\n",
       "0        163238.0     92PEE24         1.0          7.6             2   \n",
       "1        163240.0     QS68UD8         1.0          8.7             1   \n",
       "2        163241.0     MB7VY5F         2.0         14.4             1   \n",
       "3        163244.0     KDJ951Y         1.0          7.1             1   \n",
       "4        163245.0     BAL0RVT         4.0         27.2             1   \n",
       "\n",
       "  promo_code  vendor_discount_amount  promo_code_discount_percentage  \\\n",
       "0        NaN                     0.0                             NaN   \n",
       "1        NaN                     0.0                             NaN   \n",
       "2        NaN                     0.0                             NaN   \n",
       "3        NaN                     0.0                             NaN   \n",
       "4        NaN                     0.0                             NaN   \n",
       "\n",
       "  is_favorite is_rated  ...  driver_accepted_time  ready_for_pickup_time  \\\n",
       "0         NaN       No  ...                   NaN                    NaN   \n",
       "1         NaN       No  ...                   NaN                    NaN   \n",
       "2         NaN       No  ...                   NaN                    NaN   \n",
       "3         NaN       No  ...                   NaN                    NaN   \n",
       "4         NaN       No  ...                   NaN                    NaN   \n",
       "\n",
       "   picked_up_time  delivered_time        delivery_date vendor_id  \\\n",
       "0             NaN             NaN  2019-07-31 05:30:00       105   \n",
       "1             NaN             NaN  2019-07-31 05:30:00       294   \n",
       "2             NaN             NaN  2019-07-31 05:30:00        83   \n",
       "3             NaN             NaN  2019-07-31 05:30:00        90   \n",
       "4             NaN             NaN  2019-07-31 05:30:00        83   \n",
       "\n",
       "            created_at LOCATION_NUMBER LOCATION_TYPE CID X LOC_NUM X VENDOR  \n",
       "0  2019-08-01 05:30:16               0           NaN      92PEE24 X 0 X 105  \n",
       "1  2019-08-01 05:31:10               0          Work      QS68UD8 X 0 X 294  \n",
       "2  2019-08-01 05:31:33               0           NaN       MB7VY5F X 0 X 83  \n",
       "3  2019-08-01 05:34:54               0          Home       KDJ951Y X 0 X 90  \n",
       "4  2019-08-01 05:35:51               0          Work       BAL0RVT X 0 X 83  \n",
       "\n",
       "[5 rows x 26 columns]"
      ]
     },
     "execution_count": 50,
     "metadata": {},
     "output_type": "execute_result"
    }
   ],
   "source": [
    "df = pd.read_csv('orders.csv')\n",
    "df.head()"
   ]
  },
  {
   "cell_type": "code",
   "execution_count": 51,
   "metadata": {},
   "outputs": [
    {
     "data": {
      "text/html": [
       "<div>\n",
       "<style scoped>\n",
       "    .dataframe tbody tr th:only-of-type {\n",
       "        vertical-align: middle;\n",
       "    }\n",
       "\n",
       "    .dataframe tbody tr th {\n",
       "        vertical-align: top;\n",
       "    }\n",
       "\n",
       "    .dataframe thead th {\n",
       "        text-align: right;\n",
       "    }\n",
       "</style>\n",
       "<table border=\"1\" class=\"dataframe\">\n",
       "  <thead>\n",
       "    <tr style=\"text-align: right;\">\n",
       "      <th></th>\n",
       "      <th>id</th>\n",
       "      <th>authentication_id</th>\n",
       "      <th>latitude</th>\n",
       "      <th>longitude</th>\n",
       "      <th>vendor_category_en</th>\n",
       "      <th>vendor_category_id</th>\n",
       "      <th>delivery_charge</th>\n",
       "      <th>serving_distance</th>\n",
       "      <th>is_open</th>\n",
       "      <th>OpeningTime</th>\n",
       "      <th>...</th>\n",
       "      <th>open_close_flags</th>\n",
       "      <th>vendor_tag</th>\n",
       "      <th>vendor_tag_name</th>\n",
       "      <th>one_click_vendor</th>\n",
       "      <th>country_id</th>\n",
       "      <th>city_id</th>\n",
       "      <th>created_at</th>\n",
       "      <th>updated_at</th>\n",
       "      <th>device_type</th>\n",
       "      <th>display_orders</th>\n",
       "    </tr>\n",
       "  </thead>\n",
       "  <tbody>\n",
       "    <tr>\n",
       "      <th>0</th>\n",
       "      <td>4</td>\n",
       "      <td>118597.0</td>\n",
       "      <td>-0.588596</td>\n",
       "      <td>0.754434</td>\n",
       "      <td>Restaurants</td>\n",
       "      <td>2.0</td>\n",
       "      <td>0.0</td>\n",
       "      <td>6.0</td>\n",
       "      <td>1.0</td>\n",
       "      <td>11:00AM-11:30PM</td>\n",
       "      <td>...</td>\n",
       "      <td>1.0</td>\n",
       "      <td>2,4,5,8,91,22,12,24,16,23</td>\n",
       "      <td>Arabic,Breakfast,Burgers,Desserts,Free Deliver...</td>\n",
       "      <td>Y</td>\n",
       "      <td>1.0</td>\n",
       "      <td>1.0</td>\n",
       "      <td>2018-01-30 14:42:04</td>\n",
       "      <td>2020-04-07 15:12:43</td>\n",
       "      <td>3</td>\n",
       "      <td>1</td>\n",
       "    </tr>\n",
       "    <tr>\n",
       "      <th>1</th>\n",
       "      <td>13</td>\n",
       "      <td>118608.0</td>\n",
       "      <td>-0.471654</td>\n",
       "      <td>0.744470</td>\n",
       "      <td>Restaurants</td>\n",
       "      <td>2.0</td>\n",
       "      <td>0.7</td>\n",
       "      <td>5.0</td>\n",
       "      <td>1.0</td>\n",
       "      <td>08:30AM-10:30PM</td>\n",
       "      <td>...</td>\n",
       "      <td>1.0</td>\n",
       "      <td>4,41,51,34,27,15,24,16,28</td>\n",
       "      <td>Breakfast,Cakes,Crepes,Italian,Pasta,Pizzas,Sa...</td>\n",
       "      <td>Y</td>\n",
       "      <td>1.0</td>\n",
       "      <td>1.0</td>\n",
       "      <td>2018-05-03 12:32:06</td>\n",
       "      <td>2020-04-05 20:46:03</td>\n",
       "      <td>3</td>\n",
       "      <td>1</td>\n",
       "    </tr>\n",
       "    <tr>\n",
       "      <th>2</th>\n",
       "      <td>20</td>\n",
       "      <td>118616.0</td>\n",
       "      <td>-0.407527</td>\n",
       "      <td>0.643681</td>\n",
       "      <td>Restaurants</td>\n",
       "      <td>2.0</td>\n",
       "      <td>0.0</td>\n",
       "      <td>8.0</td>\n",
       "      <td>1.0</td>\n",
       "      <td>08:00AM-10:45PM</td>\n",
       "      <td>...</td>\n",
       "      <td>1.0</td>\n",
       "      <td>4,8,91,10</td>\n",
       "      <td>Breakfast,Desserts,Free Delivery,Indian</td>\n",
       "      <td>Y</td>\n",
       "      <td>1.0</td>\n",
       "      <td>1.0</td>\n",
       "      <td>2018-05-04 22:28:22</td>\n",
       "      <td>2020-04-07 16:35:55</td>\n",
       "      <td>3</td>\n",
       "      <td>1</td>\n",
       "    </tr>\n",
       "    <tr>\n",
       "      <th>3</th>\n",
       "      <td>23</td>\n",
       "      <td>118619.0</td>\n",
       "      <td>-0.585385</td>\n",
       "      <td>0.753811</td>\n",
       "      <td>Restaurants</td>\n",
       "      <td>2.0</td>\n",
       "      <td>0.0</td>\n",
       "      <td>5.0</td>\n",
       "      <td>1.0</td>\n",
       "      <td>10:59AM-10:30PM</td>\n",
       "      <td>...</td>\n",
       "      <td>1.0</td>\n",
       "      <td>5,8,30,24</td>\n",
       "      <td>Burgers,Desserts,Fries,Salads</td>\n",
       "      <td>Y</td>\n",
       "      <td>1.0</td>\n",
       "      <td>1.0</td>\n",
       "      <td>2018-05-06 19:20:48</td>\n",
       "      <td>2020-04-02 00:56:17</td>\n",
       "      <td>3</td>\n",
       "      <td>1</td>\n",
       "    </tr>\n",
       "    <tr>\n",
       "      <th>4</th>\n",
       "      <td>28</td>\n",
       "      <td>118624.0</td>\n",
       "      <td>0.480602</td>\n",
       "      <td>0.552850</td>\n",
       "      <td>Restaurants</td>\n",
       "      <td>2.0</td>\n",
       "      <td>0.7</td>\n",
       "      <td>15.0</td>\n",
       "      <td>1.0</td>\n",
       "      <td>11:00AM-11:45PM</td>\n",
       "      <td>...</td>\n",
       "      <td>1.0</td>\n",
       "      <td>5</td>\n",
       "      <td>Burgers</td>\n",
       "      <td>Y</td>\n",
       "      <td>1.0</td>\n",
       "      <td>1.0</td>\n",
       "      <td>2018-05-17 22:12:38</td>\n",
       "      <td>2020-04-05 15:57:41</td>\n",
       "      <td>3</td>\n",
       "      <td>1</td>\n",
       "    </tr>\n",
       "  </tbody>\n",
       "</table>\n",
       "<p>5 rows × 59 columns</p>\n",
       "</div>"
      ],
      "text/plain": [
       "   id  authentication_id  latitude  longitude vendor_category_en  \\\n",
       "0   4           118597.0 -0.588596   0.754434        Restaurants   \n",
       "1  13           118608.0 -0.471654   0.744470        Restaurants   \n",
       "2  20           118616.0 -0.407527   0.643681        Restaurants   \n",
       "3  23           118619.0 -0.585385   0.753811        Restaurants   \n",
       "4  28           118624.0  0.480602   0.552850        Restaurants   \n",
       "\n",
       "   vendor_category_id  delivery_charge  serving_distance  is_open  \\\n",
       "0                 2.0              0.0               6.0      1.0   \n",
       "1                 2.0              0.7               5.0      1.0   \n",
       "2                 2.0              0.0               8.0      1.0   \n",
       "3                 2.0              0.0               5.0      1.0   \n",
       "4                 2.0              0.7              15.0      1.0   \n",
       "\n",
       "       OpeningTime  ... open_close_flags                 vendor_tag  \\\n",
       "0  11:00AM-11:30PM  ...              1.0  2,4,5,8,91,22,12,24,16,23   \n",
       "1  08:30AM-10:30PM  ...              1.0  4,41,51,34,27,15,24,16,28   \n",
       "2  08:00AM-10:45PM  ...              1.0                  4,8,91,10   \n",
       "3  10:59AM-10:30PM  ...              1.0                  5,8,30,24   \n",
       "4  11:00AM-11:45PM  ...              1.0                          5   \n",
       "\n",
       "                                     vendor_tag_name one_click_vendor  \\\n",
       "0  Arabic,Breakfast,Burgers,Desserts,Free Deliver...                Y   \n",
       "1  Breakfast,Cakes,Crepes,Italian,Pasta,Pizzas,Sa...                Y   \n",
       "2            Breakfast,Desserts,Free Delivery,Indian                Y   \n",
       "3                      Burgers,Desserts,Fries,Salads                Y   \n",
       "4                                            Burgers                Y   \n",
       "\n",
       "   country_id  city_id           created_at           updated_at device_type  \\\n",
       "0         1.0      1.0  2018-01-30 14:42:04  2020-04-07 15:12:43           3   \n",
       "1         1.0      1.0  2018-05-03 12:32:06  2020-04-05 20:46:03           3   \n",
       "2         1.0      1.0  2018-05-04 22:28:22  2020-04-07 16:35:55           3   \n",
       "3         1.0      1.0  2018-05-06 19:20:48  2020-04-02 00:56:17           3   \n",
       "4         1.0      1.0  2018-05-17 22:12:38  2020-04-05 15:57:41           3   \n",
       "\n",
       "   display_orders  \n",
       "0               1  \n",
       "1               1  \n",
       "2               1  \n",
       "3               1  \n",
       "4               1  \n",
       "\n",
       "[5 rows x 59 columns]"
      ]
     },
     "execution_count": 51,
     "metadata": {},
     "output_type": "execute_result"
    }
   ],
   "source": [
    "vendors = pd.read_csv('vendors.csv')\n",
    "vendors.head()"
   ]
  },
  {
   "cell_type": "markdown",
   "metadata": {},
   "source": [
    "## Cleaning"
   ]
  },
  {
   "cell_type": "code",
   "execution_count": 52,
   "metadata": {},
   "outputs": [
    {
     "name": "stdout",
     "output_type": "stream",
     "text": [
      "<class 'pandas.core.frame.DataFrame'>\n",
      "RangeIndex: 135303 entries, 0 to 135302\n",
      "Data columns (total 26 columns):\n",
      "akeed_order_id                    135233 non-null float64\n",
      "customer_id                       135303 non-null object\n",
      "item_count                        128378 non-null float64\n",
      "grand_total                       135303 non-null float64\n",
      "payment_mode                      135303 non-null int64\n",
      "promo_code                        4305 non-null object\n",
      "vendor_discount_amount            135303 non-null float64\n",
      "promo_code_discount_percentage    65880 non-null float64\n",
      "is_favorite                       100108 non-null object\n",
      "is_rated                          135303 non-null object\n",
      "vendor_rating                     45220 non-null float64\n",
      "driver_rating                     135303 non-null float64\n",
      "deliverydistance                  135303 non-null float64\n",
      "preparationtime                   79743 non-null float64\n",
      "delivery_time                     5123 non-null object\n",
      "order_accepted_time               86955 non-null object\n",
      "driver_accepted_time              46458 non-null object\n",
      "ready_for_pickup_time             84249 non-null object\n",
      "picked_up_time                    83865 non-null object\n",
      "delivered_time                    85741 non-null object\n",
      "delivery_date                     35544 non-null object\n",
      "vendor_id                         135303 non-null int64\n",
      "created_at                        135303 non-null object\n",
      "LOCATION_NUMBER                   135303 non-null int64\n",
      "LOCATION_TYPE                     86410 non-null object\n",
      "CID X LOC_NUM X VENDOR            135303 non-null object\n",
      "dtypes: float64(9), int64(3), object(14)\n",
      "memory usage: 26.8+ MB\n"
     ]
    }
   ],
   "source": [
    "df.info()"
   ]
  },
  {
   "cell_type": "code",
   "execution_count": 53,
   "metadata": {},
   "outputs": [
    {
     "data": {
      "text/plain": [
       "False    122499\n",
       "True      12804\n",
       "Name: date, dtype: int64"
      ]
     },
     "execution_count": 53,
     "metadata": {},
     "output_type": "execute_result"
    }
   ],
   "source": [
    "df['date']=df['order_accepted_time']\n",
    "df.loc[df['date'].isnull()==True,'date']=df['delivery_date']\n",
    "df['date'].isnull().value_counts()"
   ]
  },
  {
   "cell_type": "code",
   "execution_count": 54,
   "metadata": {},
   "outputs": [
    {
     "name": "stdout",
     "output_type": "stream",
     "text": [
      "<class 'pandas.core.frame.DataFrame'>\n",
      "Int64Index: 122451 entries, 0 to 135302\n",
      "Data columns (total 25 columns):\n",
      "akeed_order_id                    122434 non-null float64\n",
      "customer_id                       122451 non-null object\n",
      "item_count                        122451 non-null float64\n",
      "grand_total                       122451 non-null float64\n",
      "payment_mode                      122451 non-null int64\n",
      "vendor_discount_amount            122451 non-null float64\n",
      "promo_code_discount_percentage    122451 non-null float64\n",
      "vendor_rating                     122451 non-null float64\n",
      "driver_rating                     122451 non-null float64\n",
      "deliverydistance                  122451 non-null float64\n",
      "preparationtime                   122451 non-null float64\n",
      "delivery_time                     4582 non-null object\n",
      "order_accepted_time               86907 non-null object\n",
      "driver_accepted_time              46448 non-null object\n",
      "ready_for_pickup_time             84178 non-null object\n",
      "picked_up_time                    83798 non-null object\n",
      "delivered_time                    85606 non-null object\n",
      "delivery_date                     35544 non-null object\n",
      "vendor_id                         122451 non-null int64\n",
      "created_at                        122451 non-null object\n",
      "LOCATION_NUMBER                   122451 non-null int64\n",
      "LOCATION_TYPE                     85476 non-null object\n",
      "CID X LOC_NUM X VENDOR            122451 non-null object\n",
      "date                              122451 non-null datetime64[ns]\n",
      "favorite                          122451 non-null float64\n",
      "dtypes: datetime64[ns](1), float64(10), int64(3), object(11)\n",
      "memory usage: 24.3+ MB\n"
     ]
    }
   ],
   "source": [
    "#dropna for order_accepted_time\n",
    "df.dropna(subset=['date','item_count'],inplace=True)\n",
    "df['promo_code_discount_percentage'].fillna(0, inplace=True)\n",
    "df['date']= pd.to_datetime(df['date'])\n",
    "df.loc[df['is_favorite']=='Yes','favorite']=1\n",
    "df.loc[df['is_favorite']=='No','favorite']=0\n",
    "df['favorite'].fillna(999, inplace=True)\n",
    "df['vendor_rating'].fillna(999, inplace=True)\n",
    "df['preparationtime'].fillna(999, inplace=True)\n",
    "df.drop(['promo_code','is_favorite','is_rated'], axis=1, inplace=True)\n",
    "df.info()"
   ]
  },
  {
   "cell_type": "code",
   "execution_count": 55,
   "metadata": {},
   "outputs": [
    {
     "data": {
      "text/html": [
       "<div>\n",
       "<style scoped>\n",
       "    .dataframe tbody tr th:only-of-type {\n",
       "        vertical-align: middle;\n",
       "    }\n",
       "\n",
       "    .dataframe tbody tr th {\n",
       "        vertical-align: top;\n",
       "    }\n",
       "\n",
       "    .dataframe thead th {\n",
       "        text-align: right;\n",
       "    }\n",
       "</style>\n",
       "<table border=\"1\" class=\"dataframe\">\n",
       "  <thead>\n",
       "    <tr style=\"text-align: right;\">\n",
       "      <th></th>\n",
       "      <th>akeed_order_id</th>\n",
       "      <th>customer_id</th>\n",
       "      <th>item_count</th>\n",
       "      <th>grand_total</th>\n",
       "      <th>payment_mode</th>\n",
       "      <th>vendor_discount_amount</th>\n",
       "      <th>promo_code_discount_percentage</th>\n",
       "      <th>vendor_rating</th>\n",
       "      <th>driver_rating</th>\n",
       "      <th>deliverydistance</th>\n",
       "      <th>...</th>\n",
       "      <th>vendor_id</th>\n",
       "      <th>created_at</th>\n",
       "      <th>LOCATION_NUMBER</th>\n",
       "      <th>LOCATION_TYPE</th>\n",
       "      <th>CID X LOC_NUM X VENDOR</th>\n",
       "      <th>date</th>\n",
       "      <th>favorite</th>\n",
       "      <th>Year-Month</th>\n",
       "      <th>Year</th>\n",
       "      <th>Month</th>\n",
       "    </tr>\n",
       "  </thead>\n",
       "  <tbody>\n",
       "    <tr>\n",
       "      <th>0</th>\n",
       "      <td>163238.0</td>\n",
       "      <td>92PEE24</td>\n",
       "      <td>1.0</td>\n",
       "      <td>7.6</td>\n",
       "      <td>2</td>\n",
       "      <td>0.0</td>\n",
       "      <td>0.0</td>\n",
       "      <td>999.0</td>\n",
       "      <td>0.0</td>\n",
       "      <td>0.0</td>\n",
       "      <td>...</td>\n",
       "      <td>105</td>\n",
       "      <td>2019-08-01 05:30:16</td>\n",
       "      <td>0</td>\n",
       "      <td>NaN</td>\n",
       "      <td>92PEE24 X 0 X 105</td>\n",
       "      <td>2019-07-31 05:30:00</td>\n",
       "      <td>999.0</td>\n",
       "      <td>2019-07-01</td>\n",
       "      <td>2019</td>\n",
       "      <td>7</td>\n",
       "    </tr>\n",
       "  </tbody>\n",
       "</table>\n",
       "<p>1 rows × 28 columns</p>\n",
       "</div>"
      ],
      "text/plain": [
       "   akeed_order_id customer_id  item_count  grand_total  payment_mode  \\\n",
       "0        163238.0     92PEE24         1.0          7.6             2   \n",
       "\n",
       "   vendor_discount_amount  promo_code_discount_percentage  vendor_rating  \\\n",
       "0                     0.0                             0.0          999.0   \n",
       "\n",
       "   driver_rating  deliverydistance  ...  vendor_id           created_at  \\\n",
       "0            0.0               0.0  ...        105  2019-08-01 05:30:16   \n",
       "\n",
       "  LOCATION_NUMBER LOCATION_TYPE CID X LOC_NUM X VENDOR                date  \\\n",
       "0               0           NaN      92PEE24 X 0 X 105 2019-07-31 05:30:00   \n",
       "\n",
       "  favorite Year-Month  Year Month  \n",
       "0    999.0 2019-07-01  2019     7  \n",
       "\n",
       "[1 rows x 28 columns]"
      ]
     },
     "execution_count": 55,
     "metadata": {},
     "output_type": "execute_result"
    }
   ],
   "source": [
    "df['Year-Month'] = pd.to_datetime(pd.to_datetime(df['date']).dt.strftime('%Y-%m'), format='%Y-%m')\n",
    "df['Year']=df['date'].dt.year\n",
    "df['Month']=df['date'].dt.month\n",
    "df.head(1)"
   ]
  },
  {
   "cell_type": "code",
   "execution_count": 56,
   "metadata": {},
   "outputs": [],
   "source": [
    "df['vendor_discount_amount2']=df['vendor_discount_amount']*100"
   ]
  },
  {
   "cell_type": "code",
   "execution_count": 57,
   "metadata": {},
   "outputs": [
    {
     "data": {
      "text/html": [
       "<div>\n",
       "<style scoped>\n",
       "    .dataframe tbody tr th:only-of-type {\n",
       "        vertical-align: middle;\n",
       "    }\n",
       "\n",
       "    .dataframe tbody tr th {\n",
       "        vertical-align: top;\n",
       "    }\n",
       "\n",
       "    .dataframe thead th {\n",
       "        text-align: right;\n",
       "    }\n",
       "</style>\n",
       "<table border=\"1\" class=\"dataframe\">\n",
       "  <thead>\n",
       "    <tr style=\"text-align: right;\">\n",
       "      <th></th>\n",
       "      <th>akeed_order_id_x</th>\n",
       "      <th>customer_id</th>\n",
       "      <th>item_count</th>\n",
       "      <th>grand_total</th>\n",
       "      <th>payment_mode</th>\n",
       "      <th>vendor_discount_amount</th>\n",
       "      <th>promo_code_discount_percentage</th>\n",
       "      <th>vendor_rating</th>\n",
       "      <th>driver_rating</th>\n",
       "      <th>deliverydistance</th>\n",
       "      <th>...</th>\n",
       "      <th>LOCATION_NUMBER</th>\n",
       "      <th>LOCATION_TYPE</th>\n",
       "      <th>CID X LOC_NUM X VENDOR</th>\n",
       "      <th>date</th>\n",
       "      <th>favorite</th>\n",
       "      <th>Year-Month</th>\n",
       "      <th>Year</th>\n",
       "      <th>Month</th>\n",
       "      <th>vendor_discount_amount2</th>\n",
       "      <th>akeed_order_id_y</th>\n",
       "    </tr>\n",
       "  </thead>\n",
       "  <tbody>\n",
       "    <tr>\n",
       "      <th>0</th>\n",
       "      <td>163238.0</td>\n",
       "      <td>92PEE24</td>\n",
       "      <td>1.0</td>\n",
       "      <td>7.6</td>\n",
       "      <td>2</td>\n",
       "      <td>0.0</td>\n",
       "      <td>0.0</td>\n",
       "      <td>999.0</td>\n",
       "      <td>0.0</td>\n",
       "      <td>0.0</td>\n",
       "      <td>...</td>\n",
       "      <td>0</td>\n",
       "      <td>NaN</td>\n",
       "      <td>92PEE24 X 0 X 105</td>\n",
       "      <td>2019-07-31 05:30:00</td>\n",
       "      <td>999.0</td>\n",
       "      <td>2019-07-01</td>\n",
       "      <td>2019</td>\n",
       "      <td>7</td>\n",
       "      <td>0.0</td>\n",
       "      <td>4</td>\n",
       "    </tr>\n",
       "    <tr>\n",
       "      <th>1</th>\n",
       "      <td>163240.0</td>\n",
       "      <td>QS68UD8</td>\n",
       "      <td>1.0</td>\n",
       "      <td>8.7</td>\n",
       "      <td>1</td>\n",
       "      <td>0.0</td>\n",
       "      <td>0.0</td>\n",
       "      <td>999.0</td>\n",
       "      <td>0.0</td>\n",
       "      <td>0.0</td>\n",
       "      <td>...</td>\n",
       "      <td>0</td>\n",
       "      <td>Work</td>\n",
       "      <td>QS68UD8 X 0 X 294</td>\n",
       "      <td>2019-07-31 05:30:00</td>\n",
       "      <td>999.0</td>\n",
       "      <td>2019-07-01</td>\n",
       "      <td>2019</td>\n",
       "      <td>7</td>\n",
       "      <td>0.0</td>\n",
       "      <td>1</td>\n",
       "    </tr>\n",
       "    <tr>\n",
       "      <th>2</th>\n",
       "      <td>163241.0</td>\n",
       "      <td>MB7VY5F</td>\n",
       "      <td>2.0</td>\n",
       "      <td>14.4</td>\n",
       "      <td>1</td>\n",
       "      <td>0.0</td>\n",
       "      <td>0.0</td>\n",
       "      <td>999.0</td>\n",
       "      <td>0.0</td>\n",
       "      <td>0.0</td>\n",
       "      <td>...</td>\n",
       "      <td>0</td>\n",
       "      <td>NaN</td>\n",
       "      <td>MB7VY5F X 0 X 83</td>\n",
       "      <td>2019-07-31 05:30:00</td>\n",
       "      <td>999.0</td>\n",
       "      <td>2019-07-01</td>\n",
       "      <td>2019</td>\n",
       "      <td>7</td>\n",
       "      <td>0.0</td>\n",
       "      <td>4</td>\n",
       "    </tr>\n",
       "    <tr>\n",
       "      <th>3</th>\n",
       "      <td>163244.0</td>\n",
       "      <td>KDJ951Y</td>\n",
       "      <td>1.0</td>\n",
       "      <td>7.1</td>\n",
       "      <td>1</td>\n",
       "      <td>0.0</td>\n",
       "      <td>0.0</td>\n",
       "      <td>999.0</td>\n",
       "      <td>0.0</td>\n",
       "      <td>0.0</td>\n",
       "      <td>...</td>\n",
       "      <td>0</td>\n",
       "      <td>Home</td>\n",
       "      <td>KDJ951Y X 0 X 90</td>\n",
       "      <td>2019-07-31 05:30:00</td>\n",
       "      <td>999.0</td>\n",
       "      <td>2019-07-01</td>\n",
       "      <td>2019</td>\n",
       "      <td>7</td>\n",
       "      <td>0.0</td>\n",
       "      <td>1</td>\n",
       "    </tr>\n",
       "    <tr>\n",
       "      <th>4</th>\n",
       "      <td>163245.0</td>\n",
       "      <td>BAL0RVT</td>\n",
       "      <td>4.0</td>\n",
       "      <td>27.2</td>\n",
       "      <td>1</td>\n",
       "      <td>0.0</td>\n",
       "      <td>0.0</td>\n",
       "      <td>999.0</td>\n",
       "      <td>0.0</td>\n",
       "      <td>0.0</td>\n",
       "      <td>...</td>\n",
       "      <td>0</td>\n",
       "      <td>Work</td>\n",
       "      <td>BAL0RVT X 0 X 83</td>\n",
       "      <td>2019-07-31 05:30:00</td>\n",
       "      <td>999.0</td>\n",
       "      <td>2019-07-01</td>\n",
       "      <td>2019</td>\n",
       "      <td>7</td>\n",
       "      <td>0.0</td>\n",
       "      <td>8</td>\n",
       "    </tr>\n",
       "  </tbody>\n",
       "</table>\n",
       "<p>5 rows × 30 columns</p>\n",
       "</div>"
      ],
      "text/plain": [
       "   akeed_order_id_x customer_id  item_count  grand_total  payment_mode  \\\n",
       "0          163238.0     92PEE24         1.0          7.6             2   \n",
       "1          163240.0     QS68UD8         1.0          8.7             1   \n",
       "2          163241.0     MB7VY5F         2.0         14.4             1   \n",
       "3          163244.0     KDJ951Y         1.0          7.1             1   \n",
       "4          163245.0     BAL0RVT         4.0         27.2             1   \n",
       "\n",
       "   vendor_discount_amount  promo_code_discount_percentage  vendor_rating  \\\n",
       "0                     0.0                             0.0          999.0   \n",
       "1                     0.0                             0.0          999.0   \n",
       "2                     0.0                             0.0          999.0   \n",
       "3                     0.0                             0.0          999.0   \n",
       "4                     0.0                             0.0          999.0   \n",
       "\n",
       "   driver_rating  deliverydistance  ...  LOCATION_NUMBER LOCATION_TYPE  \\\n",
       "0            0.0               0.0  ...                0           NaN   \n",
       "1            0.0               0.0  ...                0          Work   \n",
       "2            0.0               0.0  ...                0           NaN   \n",
       "3            0.0               0.0  ...                0          Home   \n",
       "4            0.0               0.0  ...                0          Work   \n",
       "\n",
       "  CID X LOC_NUM X VENDOR                date favorite Year-Month  Year Month  \\\n",
       "0      92PEE24 X 0 X 105 2019-07-31 05:30:00    999.0 2019-07-01  2019     7   \n",
       "1      QS68UD8 X 0 X 294 2019-07-31 05:30:00    999.0 2019-07-01  2019     7   \n",
       "2       MB7VY5F X 0 X 83 2019-07-31 05:30:00    999.0 2019-07-01  2019     7   \n",
       "3       KDJ951Y X 0 X 90 2019-07-31 05:30:00    999.0 2019-07-01  2019     7   \n",
       "4       BAL0RVT X 0 X 83 2019-07-31 05:30:00    999.0 2019-07-01  2019     7   \n",
       "\n",
       "   vendor_discount_amount2 akeed_order_id_y  \n",
       "0                      0.0                4  \n",
       "1                      0.0                1  \n",
       "2                      0.0                4  \n",
       "3                      0.0                1  \n",
       "4                      0.0                8  \n",
       "\n",
       "[5 rows x 30 columns]"
      ]
     },
     "execution_count": 57,
     "metadata": {},
     "output_type": "execute_result"
    }
   ],
   "source": [
    "cust_unique = df[['customer_id','akeed_order_id']].groupby('customer_id', as_index=False).count()\n",
    "df = df.merge(cust_unique, on=['customer_id'], how='left')\n",
    "df.head()"
   ]
  },
  {
   "cell_type": "code",
   "execution_count": 58,
   "metadata": {},
   "outputs": [],
   "source": [
    "df = df[df['Year']==2019]"
   ]
  },
  {
   "cell_type": "code",
   "execution_count": 59,
   "metadata": {},
   "outputs": [
    {
     "name": "stdout",
     "output_type": "stream",
     "text": [
      "<class 'pandas.core.frame.DataFrame'>\n",
      "Int64Index: 81508 entries, 0 to 81511\n",
      "Data columns (total 30 columns):\n",
      "akeed_order_id_x                  81508 non-null float64\n",
      "customer_id                       81508 non-null object\n",
      "item_count                        81508 non-null float64\n",
      "grand_total                       81508 non-null float64\n",
      "payment_mode                      81508 non-null int64\n",
      "vendor_discount_amount            81508 non-null float64\n",
      "promo_code_discount_percentage    81508 non-null float64\n",
      "vendor_rating                     81508 non-null float64\n",
      "driver_rating                     81508 non-null float64\n",
      "deliverydistance                  81508 non-null float64\n",
      "preparationtime                   81508 non-null float64\n",
      "delivery_time                     3415 non-null object\n",
      "order_accepted_time               45964 non-null object\n",
      "driver_accepted_time              5618 non-null object\n",
      "ready_for_pickup_time             44588 non-null object\n",
      "picked_up_time                    44490 non-null object\n",
      "delivered_time                    45084 non-null object\n",
      "delivery_date                     35544 non-null object\n",
      "vendor_id                         81508 non-null int64\n",
      "created_at                        81508 non-null object\n",
      "LOCATION_NUMBER                   81508 non-null int64\n",
      "LOCATION_TYPE                     61128 non-null object\n",
      "CID X LOC_NUM X VENDOR            81508 non-null object\n",
      "date                              81508 non-null datetime64[ns]\n",
      "favorite                          81508 non-null float64\n",
      "Year-Month                        81508 non-null datetime64[ns]\n",
      "Year                              81508 non-null int64\n",
      "Month                             81508 non-null int64\n",
      "vendor_discount_amount2           81508 non-null float64\n",
      "akeed_order_id_y                  81508 non-null int64\n",
      "dtypes: datetime64[ns](2), float64(11), int64(6), object(11)\n",
      "memory usage: 19.3+ MB\n"
     ]
    }
   ],
   "source": [
    "df.info()"
   ]
  },
  {
   "cell_type": "markdown",
   "metadata": {},
   "source": [
    "## Order Customer Distribution"
   ]
  },
  {
   "cell_type": "code",
   "execution_count": 60,
   "metadata": {},
   "outputs": [],
   "source": [
    "value_customer = df['customer_id'].value_counts()\n",
    "value_customer = pd.DataFrame(value_customer)"
   ]
  },
  {
   "cell_type": "code",
   "execution_count": 61,
   "metadata": {},
   "outputs": [
    {
     "data": {
      "text/html": [
       "<div>\n",
       "<style scoped>\n",
       "    .dataframe tbody tr th:only-of-type {\n",
       "        vertical-align: middle;\n",
       "    }\n",
       "\n",
       "    .dataframe tbody tr th {\n",
       "        vertical-align: top;\n",
       "    }\n",
       "\n",
       "    .dataframe thead th {\n",
       "        text-align: right;\n",
       "    }\n",
       "</style>\n",
       "<table border=\"1\" class=\"dataframe\">\n",
       "  <thead>\n",
       "    <tr style=\"text-align: right;\">\n",
       "      <th></th>\n",
       "      <th>customer_id</th>\n",
       "      <th>count_cust</th>\n",
       "    </tr>\n",
       "  </thead>\n",
       "  <tbody>\n",
       "    <tr>\n",
       "      <th>XW90EAP</th>\n",
       "      <td>194</td>\n",
       "      <td>&gt;100</td>\n",
       "    </tr>\n",
       "    <tr>\n",
       "      <th>TL7Z2DM</th>\n",
       "      <td>113</td>\n",
       "      <td>&gt;100</td>\n",
       "    </tr>\n",
       "    <tr>\n",
       "      <th>VDEJEMP</th>\n",
       "      <td>94</td>\n",
       "      <td>50-100</td>\n",
       "    </tr>\n",
       "    <tr>\n",
       "      <th>X8BK4DW</th>\n",
       "      <td>90</td>\n",
       "      <td>50-100</td>\n",
       "    </tr>\n",
       "    <tr>\n",
       "      <th>HJFTTGW</th>\n",
       "      <td>88</td>\n",
       "      <td>50-100</td>\n",
       "    </tr>\n",
       "  </tbody>\n",
       "</table>\n",
       "</div>"
      ],
      "text/plain": [
       "         customer_id count_cust\n",
       "XW90EAP          194       >100\n",
       "TL7Z2DM          113       >100\n",
       "VDEJEMP           94     50-100\n",
       "X8BK4DW           90     50-100\n",
       "HJFTTGW           88     50-100"
      ]
     },
     "execution_count": 61,
     "metadata": {},
     "output_type": "execute_result"
    }
   ],
   "source": [
    "value_customer['count_cust']=value_customer['customer_id'].apply(lambda x : '<10' if x<10 else \n",
    "                                                                 ('10-50' if (x>=10)&(x<50) else \n",
    "                                                                  ('50-100' if (x>=50)&(x<100) else '>100')))\n",
    "value_customer.head()"
   ]
  },
  {
   "cell_type": "code",
   "execution_count": 62,
   "metadata": {},
   "outputs": [
    {
     "data": {
      "text/plain": [
       "<10       89.554723\n",
       "10-50     10.284020\n",
       "50-100     0.150853\n",
       ">100       0.010404\n",
       "Name: count_cust, dtype: float64"
      ]
     },
     "execution_count": 62,
     "metadata": {},
     "output_type": "execute_result"
    }
   ],
   "source": [
    "count_cust = value_customer['count_cust'].value_counts()\n",
    "count_cust = count_cust/count_cust.sum()*100\n",
    "count_cust"
   ]
  },
  {
   "cell_type": "code",
   "execution_count": 63,
   "metadata": {},
   "outputs": [],
   "source": [
    "labels = ['<10','10-50','','']\n",
    "def my_autopct(pct):\n",
    "    return ('%.2f' % pct) if pct > 5 else ''\n",
    "colors = ['#0504aa','#f3c33c','#255e79','#267778']"
   ]
  },
  {
   "cell_type": "code",
   "execution_count": 64,
   "metadata": {},
   "outputs": [
    {
     "data": {
      "image/png": "[encoded data removed]",
      "text/plain": [
       "<Figure size 1512x360 with 2 Axes>"
      ]
     },
     "metadata": {
      "needs_background": "light"
     },
     "output_type": "display_data"
    }
   ],
   "source": [
    "fig, (ax1, ax2)  = plt.subplots(1,2, figsize=(21, 5), gridspec_kw={'width_ratios': [1, 3]})\n",
    "\n",
    "#ax1\n",
    "explode = (0.2, 0, 0, 0)\n",
    "ax1.pie(count_cust, explode=explode, labels=labels, autopct=my_autopct, shadow=True, \n",
    "        textprops={'fontsize': 14,'color': 'black'}, colors = colors)\n",
    "ax1.set_title('Pie Chart Jumlah Order', size=15)\n",
    "\n",
    "#ax2\n",
    "n, bins, patches = ax2.hist(value_customer['customer_id'], bins=50, color='#0504aa', alpha=0.7, rwidth=0.85, align='left')\n",
    "\n",
    "ax2.plot(bins[:50], n, '--', linewidth=5, color='#f3c33c')\n",
    "\n",
    "ax2.grid(True)\n",
    "ax2.set_title('Distribusi Order per Customer', size=15)\n",
    "ax2.set_xticks(np.arange(min(value_customer['customer_id']), max(value_customer['customer_id'])+1, 10))\n",
    "\n",
    "plt.show()"
   ]
  },
  {
   "cell_type": "code",
   "execution_count": 18,
   "metadata": {},
   "outputs": [
    {
     "name": "stderr",
     "output_type": "stream",
     "text": [
      "C:\\Users\\IDMARCO\\Anaconda3\\lib\\site-packages\\ipykernel_launcher.py:4: SettingWithCopyWarning: \n",
      "A value is trying to be set on a copy of a slice from a DataFrame.\n",
      "Try using .loc[row_indexer,col_indexer] = value instead\n",
      "\n",
      "See the caveats in the documentation: http://pandas.pydata.org/pandas-docs/stable/indexing.html#indexing-view-versus-copy\n",
      "  after removing the cwd from sys.path.\n"
     ]
    },
    {
     "data": {
      "text/plain": [
       "<75        70.967742\n",
       "75-100     22.580645\n",
       "100-125     3.225806\n",
       ">125        3.225806\n",
       "Name: count_cust, dtype: float64"
      ]
     },
     "execution_count": 18,
     "metadata": {},
     "output_type": "execute_result"
    }
   ],
   "source": [
    "value_customer = pd.DataFrame(value_customer)\n",
    "value_customer_50 = value_customer[value_customer['customer_id']>50]\n",
    "\n",
    "value_customer_50['count_cust']=value_customer_50['customer_id'].apply(lambda x : '<75' if x<75 else \n",
    "                                                                       ('100-125' if (x>=100)&(x<125) else \n",
    "                                                                        ('75-100' if (x>=75)&(x<100) else '>125')))\n",
    "\n",
    "count_cust = value_customer_50['count_cust'].value_counts()\n",
    "count_cust = count_cust/count_cust.sum()*100\n",
    "count_cust"
   ]
  },
  {
   "cell_type": "code",
   "execution_count": 19,
   "metadata": {},
   "outputs": [
    {
     "data": {
      "image/png": "[encoded data removed]",
      "text/plain": [
       "<Figure size 1512x360 with 2 Axes>"
      ]
     },
     "metadata": {
      "needs_background": "light"
     },
     "output_type": "display_data"
    }
   ],
   "source": [
    "fig, (ax1, ax2)  = plt.subplots(1,2, figsize=(21, 5), gridspec_kw={'width_ratios': [1, 3]})\n",
    "\n",
    "#ax1\n",
    "explode = (0.2, 0, 0, 0)\n",
    "ax1.pie(count_cust, explode=explode, labels=count_cust.index, autopct=my_autopct, shadow=True, \n",
    "        textprops={'fontsize': 14,'color': 'black'}, colors = colors)\n",
    "ax1.set_title('Pie Chart Jumlah Order', size=15)\n",
    "\n",
    "#ax2\n",
    "n, bins, patches = ax2.hist(value_customer_50['customer_id'], bins=50, color='#0504aa', rwidth=0.85, align='left')\n",
    "\n",
    "ax2.plot(bins[:50], n, '--', linewidth=5, color='#f3c33c')\n",
    "\n",
    "ax2.grid(True)\n",
    "ax2.set_title('Distribusi Order per Customer', size=15)\n",
    "ax2.set_xticks(np.arange(50, max(value_customer['customer_id'])+1, 10))\n",
    "\n",
    "plt.show()"
   ]
  },
  {
   "cell_type": "markdown",
   "metadata": {},
   "source": [
    "## Churn Description"
   ]
  },
  {
   "cell_type": "code",
   "execution_count": 20,
   "metadata": {},
   "outputs": [
    {
     "name": "stdout",
     "output_type": "stream",
     "text": [
      "2019-12-31 23:59:32\n",
      "2019-05-31 00:00:00\n"
     ]
    }
   ],
   "source": [
    "df['date']= pd.to_datetime(df['date'])\n",
    "print(df['date'].max())\n",
    "print(df['date'].min())"
   ]
  },
  {
   "cell_type": "code",
   "execution_count": 21,
   "metadata": {},
   "outputs": [
    {
     "data": {
      "text/plain": [
       "Timestamp('2019-12-01 00:00:00')"
      ]
     },
     "execution_count": 21,
     "metadata": {},
     "output_type": "execute_result"
    }
   ],
   "source": [
    "df['Year-Month'].max()"
   ]
  },
  {
   "cell_type": "code",
   "execution_count": 22,
   "metadata": {},
   "outputs": [],
   "source": [
    "year=df['Year'].unique()\n",
    "for y in year:\n",
    "    month=df['Month'][df['Year']==y].unique()\n",
    "    for m in month:\n",
    "        if m < 10 : \n",
    "            m='0'+str(m)\n",
    "        i_month = pd.DataFrame(df['customer_id'][df['Year-Month']==str(y)+'-'+str(m)+'-01 00:00:00'].unique())\n",
    "        month_after = pd.DataFrame(df['customer_id'][df['Year-Month']>str(y)+'-'+str(m)+'-01 00:00:00'].unique())\n",
    "\n",
    "        chrun = i_month[i_month[0].str.contains('|'.join(month_after[0]))==False]\n",
    "        churn = pd.DataFrame(chrun)\n",
    "        churn['Status'] = 1\n",
    "        \n",
    "        data_this_month =  df[df['Year-Month']==str(y)+'-'+str(m)+'-01 00:00:00'].reset_index()\n",
    "        cust_max_index = data_this_month[['customer_id', 'index']].groupby('customer_id', as_index=False).max()\n",
    "        \n",
    "        churn = churn.merge(cust_max_index, left_on=[0], right_on=['customer_id'], how='left')\n",
    "\n",
    "        join_churn = data_this_month.merge(churn, on=['index'], how='left')\n",
    "        df.loc[(df['Year-Month']==str(y)+'-'+str(m)+'-01 00:00:00'), 'Churn'] = list(join_churn['Status'])"
   ]
  },
  {
   "cell_type": "code",
   "execution_count": 23,
   "metadata": {},
   "outputs": [
    {
     "name": "stdout",
     "output_type": "stream",
     "text": [
      "<class 'pandas.core.frame.DataFrame'>\n",
      "Int64Index: 81508 entries, 0 to 81511\n",
      "Data columns (total 31 columns):\n",
      "akeed_order_id_x                  81508 non-null float64\n",
      "customer_id                       81508 non-null object\n",
      "item_count                        81508 non-null float64\n",
      "grand_total                       81508 non-null float64\n",
      "payment_mode                      81508 non-null int64\n",
      "vendor_discount_amount            81508 non-null float64\n",
      "promo_code_discount_percentage    81508 non-null float64\n",
      "vendor_rating                     81508 non-null float64\n",
      "driver_rating                     81508 non-null float64\n",
      "deliverydistance                  81508 non-null float64\n",
      "preparationtime                   81508 non-null float64\n",
      "delivery_time                     3415 non-null object\n",
      "order_accepted_time               45964 non-null object\n",
      "driver_accepted_time              5618 non-null object\n",
      "ready_for_pickup_time             44588 non-null object\n",
      "picked_up_time                    44490 non-null object\n",
      "delivered_time                    45084 non-null object\n",
      "delivery_date                     35544 non-null object\n",
      "vendor_id                         81508 non-null int64\n",
      "created_at                        81508 non-null object\n",
      "LOCATION_NUMBER                   81508 non-null int64\n",
      "LOCATION_TYPE                     61128 non-null object\n",
      "CID X LOC_NUM X VENDOR            81508 non-null object\n",
      "date                              81508 non-null datetime64[ns]\n",
      "favorite                          81508 non-null float64\n",
      "Year-Month                        81508 non-null datetime64[ns]\n",
      "Year                              81508 non-null int64\n",
      "Month                             81508 non-null int64\n",
      "vendor_discount_amount2           81508 non-null float64\n",
      "akeed_order_id_y                  81508 non-null int64\n",
      "Churn                             10453 non-null float64\n",
      "dtypes: datetime64[ns](2), float64(12), int64(6), object(11)\n",
      "memory usage: 19.9+ MB\n"
     ]
    }
   ],
   "source": [
    "df.info()"
   ]
  },
  {
   "cell_type": "code",
   "execution_count": 24,
   "metadata": {
    "scrolled": false
   },
   "outputs": [
    {
     "data": {
      "text/html": [
       "<div>\n",
       "<style scoped>\n",
       "    .dataframe tbody tr th:only-of-type {\n",
       "        vertical-align: middle;\n",
       "    }\n",
       "\n",
       "    .dataframe tbody tr th {\n",
       "        vertical-align: top;\n",
       "    }\n",
       "\n",
       "    .dataframe thead th {\n",
       "        text-align: right;\n",
       "    }\n",
       "</style>\n",
       "<table border=\"1\" class=\"dataframe\">\n",
       "  <thead>\n",
       "    <tr style=\"text-align: right;\">\n",
       "      <th></th>\n",
       "      <th>akeed_order_id_x</th>\n",
       "      <th>customer_id</th>\n",
       "      <th>item_count</th>\n",
       "      <th>grand_total</th>\n",
       "      <th>payment_mode</th>\n",
       "      <th>vendor_discount_amount</th>\n",
       "      <th>promo_code_discount_percentage</th>\n",
       "      <th>vendor_rating</th>\n",
       "      <th>driver_rating</th>\n",
       "      <th>deliverydistance</th>\n",
       "      <th>...</th>\n",
       "      <th>LOCATION_TYPE</th>\n",
       "      <th>CID X LOC_NUM X VENDOR</th>\n",
       "      <th>date</th>\n",
       "      <th>favorite</th>\n",
       "      <th>Year-Month</th>\n",
       "      <th>Year</th>\n",
       "      <th>Month</th>\n",
       "      <th>vendor_discount_amount2</th>\n",
       "      <th>akeed_order_id_y</th>\n",
       "      <th>Churn</th>\n",
       "    </tr>\n",
       "  </thead>\n",
       "  <tbody>\n",
       "    <tr>\n",
       "      <th>0</th>\n",
       "      <td>163238.0</td>\n",
       "      <td>92PEE24</td>\n",
       "      <td>1.0</td>\n",
       "      <td>7.6</td>\n",
       "      <td>2</td>\n",
       "      <td>0.0</td>\n",
       "      <td>0.0</td>\n",
       "      <td>999.0</td>\n",
       "      <td>0.0</td>\n",
       "      <td>0.0</td>\n",
       "      <td>...</td>\n",
       "      <td>NaN</td>\n",
       "      <td>92PEE24 X 0 X 105</td>\n",
       "      <td>2019-07-31 05:30:00</td>\n",
       "      <td>999.0</td>\n",
       "      <td>2019-07-01</td>\n",
       "      <td>2019</td>\n",
       "      <td>7</td>\n",
       "      <td>0.0</td>\n",
       "      <td>4</td>\n",
       "      <td>0</td>\n",
       "    </tr>\n",
       "    <tr>\n",
       "      <th>1</th>\n",
       "      <td>163240.0</td>\n",
       "      <td>QS68UD8</td>\n",
       "      <td>1.0</td>\n",
       "      <td>8.7</td>\n",
       "      <td>1</td>\n",
       "      <td>0.0</td>\n",
       "      <td>0.0</td>\n",
       "      <td>999.0</td>\n",
       "      <td>0.0</td>\n",
       "      <td>0.0</td>\n",
       "      <td>...</td>\n",
       "      <td>Work</td>\n",
       "      <td>QS68UD8 X 0 X 294</td>\n",
       "      <td>2019-07-31 05:30:00</td>\n",
       "      <td>999.0</td>\n",
       "      <td>2019-07-01</td>\n",
       "      <td>2019</td>\n",
       "      <td>7</td>\n",
       "      <td>0.0</td>\n",
       "      <td>1</td>\n",
       "      <td>1</td>\n",
       "    </tr>\n",
       "    <tr>\n",
       "      <th>2</th>\n",
       "      <td>163241.0</td>\n",
       "      <td>MB7VY5F</td>\n",
       "      <td>2.0</td>\n",
       "      <td>14.4</td>\n",
       "      <td>1</td>\n",
       "      <td>0.0</td>\n",
       "      <td>0.0</td>\n",
       "      <td>999.0</td>\n",
       "      <td>0.0</td>\n",
       "      <td>0.0</td>\n",
       "      <td>...</td>\n",
       "      <td>NaN</td>\n",
       "      <td>MB7VY5F X 0 X 83</td>\n",
       "      <td>2019-07-31 05:30:00</td>\n",
       "      <td>999.0</td>\n",
       "      <td>2019-07-01</td>\n",
       "      <td>2019</td>\n",
       "      <td>7</td>\n",
       "      <td>0.0</td>\n",
       "      <td>4</td>\n",
       "      <td>0</td>\n",
       "    </tr>\n",
       "    <tr>\n",
       "      <th>3</th>\n",
       "      <td>163244.0</td>\n",
       "      <td>KDJ951Y</td>\n",
       "      <td>1.0</td>\n",
       "      <td>7.1</td>\n",
       "      <td>1</td>\n",
       "      <td>0.0</td>\n",
       "      <td>0.0</td>\n",
       "      <td>999.0</td>\n",
       "      <td>0.0</td>\n",
       "      <td>0.0</td>\n",
       "      <td>...</td>\n",
       "      <td>Home</td>\n",
       "      <td>KDJ951Y X 0 X 90</td>\n",
       "      <td>2019-07-31 05:30:00</td>\n",
       "      <td>999.0</td>\n",
       "      <td>2019-07-01</td>\n",
       "      <td>2019</td>\n",
       "      <td>7</td>\n",
       "      <td>0.0</td>\n",
       "      <td>1</td>\n",
       "      <td>1</td>\n",
       "    </tr>\n",
       "    <tr>\n",
       "      <th>4</th>\n",
       "      <td>163245.0</td>\n",
       "      <td>BAL0RVT</td>\n",
       "      <td>4.0</td>\n",
       "      <td>27.2</td>\n",
       "      <td>1</td>\n",
       "      <td>0.0</td>\n",
       "      <td>0.0</td>\n",
       "      <td>999.0</td>\n",
       "      <td>0.0</td>\n",
       "      <td>0.0</td>\n",
       "      <td>...</td>\n",
       "      <td>Work</td>\n",
       "      <td>BAL0RVT X 0 X 83</td>\n",
       "      <td>2019-07-31 05:30:00</td>\n",
       "      <td>999.0</td>\n",
       "      <td>2019-07-01</td>\n",
       "      <td>2019</td>\n",
       "      <td>7</td>\n",
       "      <td>0.0</td>\n",
       "      <td>8</td>\n",
       "      <td>0</td>\n",
       "    </tr>\n",
       "  </tbody>\n",
       "</table>\n",
       "<p>5 rows × 31 columns</p>\n",
       "</div>"
      ],
      "text/plain": [
       "   akeed_order_id_x customer_id  item_count  grand_total  payment_mode  \\\n",
       "0          163238.0     92PEE24         1.0          7.6             2   \n",
       "1          163240.0     QS68UD8         1.0          8.7             1   \n",
       "2          163241.0     MB7VY5F         2.0         14.4             1   \n",
       "3          163244.0     KDJ951Y         1.0          7.1             1   \n",
       "4          163245.0     BAL0RVT         4.0         27.2             1   \n",
       "\n",
       "   vendor_discount_amount  promo_code_discount_percentage  vendor_rating  \\\n",
       "0                     0.0                             0.0          999.0   \n",
       "1                     0.0                             0.0          999.0   \n",
       "2                     0.0                             0.0          999.0   \n",
       "3                     0.0                             0.0          999.0   \n",
       "4                     0.0                             0.0          999.0   \n",
       "\n",
       "   driver_rating  deliverydistance  ...  LOCATION_TYPE CID X LOC_NUM X VENDOR  \\\n",
       "0            0.0               0.0  ...            NaN      92PEE24 X 0 X 105   \n",
       "1            0.0               0.0  ...           Work      QS68UD8 X 0 X 294   \n",
       "2            0.0               0.0  ...            NaN       MB7VY5F X 0 X 83   \n",
       "3            0.0               0.0  ...           Home       KDJ951Y X 0 X 90   \n",
       "4            0.0               0.0  ...           Work       BAL0RVT X 0 X 83   \n",
       "\n",
       "                 date favorite Year-Month  Year Month vendor_discount_amount2  \\\n",
       "0 2019-07-31 05:30:00    999.0 2019-07-01  2019     7                     0.0   \n",
       "1 2019-07-31 05:30:00    999.0 2019-07-01  2019     7                     0.0   \n",
       "2 2019-07-31 05:30:00    999.0 2019-07-01  2019     7                     0.0   \n",
       "3 2019-07-31 05:30:00    999.0 2019-07-01  2019     7                     0.0   \n",
       "4 2019-07-31 05:30:00    999.0 2019-07-01  2019     7                     0.0   \n",
       "\n",
       "   akeed_order_id_y Churn  \n",
       "0                 4     0  \n",
       "1                 1     1  \n",
       "2                 4     0  \n",
       "3                 1     1  \n",
       "4                 8     0  \n",
       "\n",
       "[5 rows x 31 columns]"
      ]
     },
     "execution_count": 24,
     "metadata": {},
     "output_type": "execute_result"
    }
   ],
   "source": [
    "df['Churn'].fillna(0, inplace=True)\n",
    "df['Churn'] = df['Churn'].astype('int')\n",
    "df.head()"
   ]
  },
  {
   "cell_type": "markdown",
   "metadata": {},
   "source": [
    "## EDA"
   ]
  },
  {
   "cell_type": "markdown",
   "metadata": {},
   "source": [
    "### Contribution Churn"
   ]
  },
  {
   "cell_type": "code",
   "execution_count": 25,
   "metadata": {},
   "outputs": [],
   "source": [
    "df=df[df['akeed_order_id_y']>=10]"
   ]
  },
  {
   "cell_type": "code",
   "execution_count": 26,
   "metadata": {},
   "outputs": [],
   "source": [
    "Cust_unique_Churn = df[['customer_id','Churn']].groupby('customer_id', as_index=False).sum()\n",
    "Cust_unique_Churn['Churn'] = Cust_unique_Churn['Churn'].apply(lambda x : 1 if x>1 else x)\n",
    "\n",
    "vendor_unique_Churn = df[['vendor_id','Churn']].groupby('vendor_id', as_index=False).sum()\n",
    "vendor_unique_Churn['Churn'] = vendor_unique_Churn['Churn'].apply(lambda x : 1 if x>1 else x)"
   ]
  },
  {
   "cell_type": "code",
   "execution_count": 27,
   "metadata": {},
   "outputs": [],
   "source": [
    "order_churn = df['Churn'].value_counts()\n",
    "cust_churn = Cust_unique_Churn['Churn'].value_counts().sort_index()\n",
    "vendor_churn=vendor_unique_Churn['Churn'].value_counts().sort_index()"
   ]
  },
  {
   "cell_type": "code",
   "execution_count": 28,
   "metadata": {},
   "outputs": [
    {
     "data": {
      "text/plain": [
       "0    2627\n",
       "1     489\n",
       "Name: Churn, dtype: int64"
      ]
     },
     "execution_count": 28,
     "metadata": {},
     "output_type": "execute_result"
    }
   ],
   "source": [
    "cust_churn"
   ]
  },
  {
   "cell_type": "code",
   "execution_count": 29,
   "metadata": {},
   "outputs": [
    {
     "data": {
      "text/plain": [
       "[]"
      ]
     },
     "execution_count": 29,
     "metadata": {},
     "output_type": "execute_result"
    },
    {
     "data": {
      "image/png": "[encoded data removed]",
      "text/plain": [
       "<Figure size 1512x360 with 3 Axes>"
      ]
     },
     "metadata": {},
     "output_type": "display_data"
    }
   ],
   "source": [
    "fig, (ax1, ax2, ax3)  = plt.subplots(1,3, figsize=(21, 5))\n",
    "\n",
    "label = ['Not Churn', 'Churn']\n",
    "label2 = ['Churn']\n",
    "explode = (0.2,0)\n",
    "ax1.pie(order_churn, explode=explode, labels=label, autopct='%1.1f%%', shadow=True, \n",
    "        textprops={'fontsize': 14,'color': 'black'}, colors = colors)\n",
    "ax1.set_title('Order Churn', size=15)\n",
    "\n",
    "ax2.pie(cust_churn, explode=explode, labels=label, autopct='%1.1f%%', shadow=True, \n",
    "        textprops={'fontsize': 14,'color': 'black'}, colors = colors, startangle=90)\n",
    "ax2.set_title('Cust Churn', size=15)\n",
    "\n",
    "ax3.pie(vendor_churn, labels=label, autopct='%1.1f%%', shadow=True, \n",
    "        textprops={'fontsize': 14,'color': 'black'}, colors = colors)\n",
    "ax3.set_title('Vendor Churn', size=15)\n",
    "\n",
    "plt.plot()"
   ]
  },
  {
   "cell_type": "markdown",
   "metadata": {},
   "source": [
    "### EDA Churn Vs Not Churn"
   ]
  },
  {
   "cell_type": "code",
   "execution_count": 30,
   "metadata": {},
   "outputs": [
    {
     "data": {
      "text/plain": [
       "Index(['akeed_order_id_x', 'customer_id', 'item_count', 'grand_total',\n",
       "       'payment_mode', 'vendor_discount_amount',\n",
       "       'promo_code_discount_percentage', 'vendor_rating', 'driver_rating',\n",
       "       'deliverydistance', 'preparationtime', 'delivery_time',\n",
       "       'order_accepted_time', 'driver_accepted_time', 'ready_for_pickup_time',\n",
       "       'picked_up_time', 'delivered_time', 'delivery_date', 'vendor_id',\n",
       "       'created_at', 'LOCATION_NUMBER', 'LOCATION_TYPE',\n",
       "       'CID X LOC_NUM X VENDOR', 'date', 'favorite', 'Year-Month', 'Year',\n",
       "       'Month', 'vendor_discount_amount2', 'akeed_order_id_y', 'Churn'],\n",
       "      dtype='object')"
      ]
     },
     "execution_count": 30,
     "metadata": {},
     "output_type": "execute_result"
    }
   ],
   "source": [
    "df.columns"
   ]
  },
  {
   "cell_type": "code",
   "execution_count": 31,
   "metadata": {},
   "outputs": [],
   "source": [
    "grand_total_churn = df['grand_total'][df['Churn']==1]\n",
    "grand_total_churn2 = df['grand_total'][(df['Churn']==1) & (df['grand_total']<100)]\n",
    "grand_total_not = df['grand_total'][df['Churn']==0]\n",
    "grand_total_not2 = df['grand_total'][(df['Churn']==0) & (df['grand_total']<100)]"
   ]
  },
  {
   "cell_type": "code",
   "execution_count": 32,
   "metadata": {},
   "outputs": [
    {
     "data": {
      "text/plain": [
       "[]"
      ]
     },
     "execution_count": 32,
     "metadata": {},
     "output_type": "execute_result"
    },
    {
     "data": {
      "image/png": "[encoded data removed]",
      "text/plain": [
       "<Figure size 1512x648 with 4 Axes>"
      ]
     },
     "metadata": {
      "needs_background": "light"
     },
     "output_type": "display_data"
    }
   ],
   "source": [
    "fig, ax  = plt.subplots(2,2, figsize=(21, 9))\n",
    "\n",
    "ax[0,0].hist(grand_total_churn, bins=50, color='#f3c33c', rwidth=0.7, align='left')\n",
    "ax[0,0].set_title('GMV Churn', size=15)\n",
    "ax[0,0].grid(True)\n",
    "\n",
    "ax[0,1].hist(grand_total_not, bins=50, color='#0504aa', rwidth=0.7, align='left')\n",
    "ax[0,1].set_title('GMV Not Churn', size=15)\n",
    "ax[0,1].grid(True)\n",
    "\n",
    "ax[1,0].hist(grand_total_churn2, bins=50, color='#f3c33c', rwidth=0.7, align='left')\n",
    "ax[1,0].set_title('GMV Churn <100', size=15)\n",
    "ax[1,0].grid(True)\n",
    "\n",
    "ax[1,1].hist(grand_total_not2, bins=50, color='#0504aa', rwidth=0.7, align='left')\n",
    "ax[1,1].set_title('GMV Not Churn <100', size=15)\n",
    "ax[1,1].grid(True)\n",
    "\n",
    "plt.plot()"
   ]
  },
  {
   "cell_type": "code",
   "execution_count": 33,
   "metadata": {},
   "outputs": [],
   "source": [
    "item_count_churn = df['item_count'][df['Churn']==1]\n",
    "item_count_churn2 = df['item_count'][(df['Churn']==1) & (df['item_count']<10)]\n",
    "item_count_not = df['item_count'][df['Churn']==0]\n",
    "item_count_not2 = df['item_count'][(df['Churn']==0) & (df['item_count']<10)]"
   ]
  },
  {
   "cell_type": "code",
   "execution_count": 34,
   "metadata": {},
   "outputs": [
    {
     "data": {
      "text/plain": [
       "[]"
      ]
     },
     "execution_count": 34,
     "metadata": {},
     "output_type": "execute_result"
    },
    {
     "data": {
      "image/png": "[encoded data removed]",
      "text/plain": [
       "<Figure size 1512x576 with 4 Axes>"
      ]
     },
     "metadata": {
      "needs_background": "light"
     },
     "output_type": "display_data"
    }
   ],
   "source": [
    "fig, ax  = plt.subplots(2,2, figsize=(21, 8))\n",
    "\n",
    "ax[0,0].hist(item_count_churn, bins=10, color='#f3c33c', rwidth=0.7, align='left')\n",
    "ax[0,0].set_title('QTY Churn', size=15)\n",
    "ax[0,0].grid(True)\n",
    "\n",
    "ax[0,1].hist(item_count_not, bins=50, color='#0504aa', rwidth=0.7, align='left')\n",
    "ax[0,1].set_title('QTY Not Churn', size=15)\n",
    "ax[0,1].grid(True)\n",
    "\n",
    "ax[1,0].hist(item_count_churn2, color='#f3c33c', rwidth=0.9 , align='left')\n",
    "ax[1,0].set_title('QTY Churn', size=15)\n",
    "ax[1,0].grid(True)\n",
    "\n",
    "ax[1,1].hist(item_count_not2, color='#0504aa', rwidth=0.9 , align='left')\n",
    "ax[1,1].set_title('QTY Not Churn', size=15)\n",
    "ax[1,1].grid(True)\n",
    "\n",
    "plt.plot()"
   ]
  },
  {
   "cell_type": "code",
   "execution_count": 35,
   "metadata": {},
   "outputs": [
    {
     "data": {
      "text/html": [
       "<div>\n",
       "<style scoped>\n",
       "    .dataframe tbody tr th:only-of-type {\n",
       "        vertical-align: middle;\n",
       "    }\n",
       "\n",
       "    .dataframe tbody tr th {\n",
       "        vertical-align: top;\n",
       "    }\n",
       "\n",
       "    .dataframe thead th {\n",
       "        text-align: right;\n",
       "    }\n",
       "</style>\n",
       "<table border=\"1\" class=\"dataframe\">\n",
       "  <thead>\n",
       "    <tr style=\"text-align: right;\">\n",
       "      <th></th>\n",
       "      <th>promo_code_discount_percentage</th>\n",
       "      <th>vendor_discount_amount</th>\n",
       "    </tr>\n",
       "  </thead>\n",
       "  <tbody>\n",
       "    <tr>\n",
       "      <th>count</th>\n",
       "      <td>489.0</td>\n",
       "      <td>489.0</td>\n",
       "    </tr>\n",
       "    <tr>\n",
       "      <th>mean</th>\n",
       "      <td>0.0</td>\n",
       "      <td>0.0</td>\n",
       "    </tr>\n",
       "    <tr>\n",
       "      <th>std</th>\n",
       "      <td>0.0</td>\n",
       "      <td>0.0</td>\n",
       "    </tr>\n",
       "    <tr>\n",
       "      <th>min</th>\n",
       "      <td>0.0</td>\n",
       "      <td>0.0</td>\n",
       "    </tr>\n",
       "    <tr>\n",
       "      <th>25%</th>\n",
       "      <td>0.0</td>\n",
       "      <td>0.0</td>\n",
       "    </tr>\n",
       "    <tr>\n",
       "      <th>50%</th>\n",
       "      <td>0.0</td>\n",
       "      <td>0.0</td>\n",
       "    </tr>\n",
       "    <tr>\n",
       "      <th>75%</th>\n",
       "      <td>0.0</td>\n",
       "      <td>0.0</td>\n",
       "    </tr>\n",
       "    <tr>\n",
       "      <th>max</th>\n",
       "      <td>0.0</td>\n",
       "      <td>0.0</td>\n",
       "    </tr>\n",
       "  </tbody>\n",
       "</table>\n",
       "</div>"
      ],
      "text/plain": [
       "       promo_code_discount_percentage  vendor_discount_amount\n",
       "count                           489.0                   489.0\n",
       "mean                              0.0                     0.0\n",
       "std                               0.0                     0.0\n",
       "min                               0.0                     0.0\n",
       "25%                               0.0                     0.0\n",
       "50%                               0.0                     0.0\n",
       "75%                               0.0                     0.0\n",
       "max                               0.0                     0.0"
      ]
     },
     "execution_count": 35,
     "metadata": {},
     "output_type": "execute_result"
    }
   ],
   "source": [
    "df[['promo_code_discount_percentage','vendor_discount_amount']][df['Churn']==1].describe()"
   ]
  },
  {
   "cell_type": "markdown",
   "metadata": {},
   "source": [
    "dari tabel di atas pun didapat bahwa customer churn sama sekali tidak menggunakan voucher. maka dari itu dapat disimpulkan bahwa, salah satu penyebab customer tidak membeli kembali yaitu karena orang terakhir mereka tidak menggunakan voucher"
   ]
  },
  {
   "cell_type": "code",
   "execution_count": 36,
   "metadata": {},
   "outputs": [],
   "source": [
    "driver_rating_churn = df[['vendor_rating','driver_rating']][df['Churn']==1].groupby('driver_rating',as_index=False).count()\n",
    "driver_rating_churn['driver_rating'] = driver_rating_churn['driver_rating'].astype(str)\n",
    "\n",
    "driver_rating_not = df[['vendor_rating','driver_rating']][df['Churn']==0].groupby('driver_rating',as_index=False).count()\n",
    "driver_rating_not['driver_rating'] = driver_rating_not['driver_rating'].astype(str)"
   ]
  },
  {
   "cell_type": "code",
   "execution_count": 37,
   "metadata": {},
   "outputs": [
    {
     "data": {
      "text/plain": [
       "[]"
      ]
     },
     "execution_count": 37,
     "metadata": {},
     "output_type": "execute_result"
    },
    {
     "data": {
      "image/png": "[encoded data removed]",
      "text/plain": [
       "<Figure size 1512x360 with 2 Axes>"
      ]
     },
     "metadata": {
      "needs_background": "light"
     },
     "output_type": "display_data"
    }
   ],
   "source": [
    "fig, (ax1, ax2)  = plt.subplots(1,2, figsize=(21, 5))\n",
    "\n",
    "ax1.bar(driver_rating_churn['driver_rating'], driver_rating_churn['vendor_rating'], color='#f3c33c')\n",
    "ax1.set_title('Driver Rating Churn', size=15)\n",
    "ax1.grid(True)\n",
    "\n",
    "\n",
    "ax2.bar(driver_rating_not['driver_rating'], driver_rating_not['vendor_rating'], color='#0504aa')\n",
    "ax2.set_title('Driver Rating Not Churn', size=15)\n",
    "ax2.grid(True)\n",
    "\n",
    "plt.plot()"
   ]
  },
  {
   "cell_type": "code",
   "execution_count": 38,
   "metadata": {},
   "outputs": [],
   "source": [
    "deliverydistance=df[df['deliverydistance']>=1]\n",
    "deliverydistance_churn = deliverydistance['deliverydistance'][df['Churn']==1]\n",
    "deliverydistance_not = deliverydistance['deliverydistance'][df['Churn']==0]"
   ]
  },
  {
   "cell_type": "code",
   "execution_count": 39,
   "metadata": {},
   "outputs": [
    {
     "data": {
      "text/plain": [
       "[]"
      ]
     },
     "execution_count": 39,
     "metadata": {},
     "output_type": "execute_result"
    },
    {
     "data": {
      "image/png": "[encoded data removed]",
      "text/plain": [
       "<Figure size 1512x360 with 2 Axes>"
      ]
     },
     "metadata": {
      "needs_background": "light"
     },
     "output_type": "display_data"
    }
   ],
   "source": [
    "fig, (ax1,ax2)  = plt.subplots(1,2, figsize=(21, 5))\n",
    "\n",
    "ax1.hist(deliverydistance_churn, bins=8, color='#f3c33c', rwidth=0.9, align='left')\n",
    "ax1.set_title('Disttibution Delivery Churn', size=15)\n",
    "ax1.set_xticks(np.arange(0, 18, 1))\n",
    "\n",
    "ax2.hist(deliverydistance_not, bins=8, color='#0504aa', rwidth=0.9, align='left')\n",
    "ax2.set_title('Disttibution Delivery Not Churn', size=15)\n",
    "ax2.set_xticks(np.arange(0, 18, 1))\n",
    "\n",
    "plt.plot()"
   ]
  },
  {
   "cell_type": "code",
   "execution_count": 40,
   "metadata": {},
   "outputs": [],
   "source": [
    "preparationtime_churn = df[['preparationtime','driver_rating']][(df['Churn']==1) & \n",
    "                        (df['preparationtime']<999)].groupby('preparationtime',as_index=False).count()\n",
    "preparationtime_churn['preparationtime'] = preparationtime_churn['preparationtime'].astype(str)\n",
    "\n",
    "preparationtime_not = df[['preparationtime','driver_rating']][(df['Churn']==0) & \n",
    "                        (df['preparationtime']<999)].groupby('preparationtime',as_index=False).count()\n",
    "preparationtime_not['preparationtime'] = preparationtime_not['preparationtime'].astype(str)"
   ]
  },
  {
   "cell_type": "code",
   "execution_count": 41,
   "metadata": {},
   "outputs": [
    {
     "data": {
      "text/plain": [
       "[]"
      ]
     },
     "execution_count": 41,
     "metadata": {},
     "output_type": "execute_result"
    },
    {
     "data": {
      "image/png": "[encoded data removed]",
      "text/plain": [
       "<Figure size 1512x360 with 2 Axes>"
      ]
     },
     "metadata": {
      "needs_background": "light"
     },
     "output_type": "display_data"
    }
   ],
   "source": [
    "fig, (ax1, ax2)  = plt.subplots(1,2, figsize=(21, 5))\n",
    "\n",
    "ax1.bar(preparationtime_churn['preparationtime'], preparationtime_churn['driver_rating'], color='#f3c33c')\n",
    "ax1.set_title('Distribution Preparation Time Churn', size=15)\n",
    "\n",
    "ax2.bar(preparationtime_not['preparationtime'], preparationtime_not['driver_rating'], color='#0504aa')\n",
    "ax2.set_title('DDistribution Preparation Time Not Churn', size=15)\n",
    "\n",
    "plt.plot()"
   ]
  },
  {
   "cell_type": "markdown",
   "metadata": {},
   "source": [
    "### Vendor Churn EDA"
   ]
  },
  {
   "cell_type": "code",
   "execution_count": 42,
   "metadata": {},
   "outputs": [],
   "source": [
    "vendor_cust = df[['vendor_id','Churn','customer_id']].groupby(['vendor_id','customer_id'],as_index=False).sum()\n",
    "vendor_cust['Churn']=vendor_cust['Churn'].apply(lambda x: 1 if x>1 else x)\n",
    "vendor_cust = vendor_cust[['vendor_id','Churn']].groupby('vendor_id', as_index=False).sum()\n",
    "\n",
    "vendor_cust_count = df[['vendor_id','Churn','customer_id']].groupby(['vendor_id','customer_id'],as_index=False).sum()\n",
    "vendor_cust_count = vendor_cust_count[['vendor_id','customer_id']].groupby('vendor_id', as_index=False).count()"
   ]
  },
  {
   "cell_type": "code",
   "execution_count": 43,
   "metadata": {},
   "outputs": [
    {
     "data": {
      "text/html": [
       "<div>\n",
       "<style scoped>\n",
       "    .dataframe tbody tr th:only-of-type {\n",
       "        vertical-align: middle;\n",
       "    }\n",
       "\n",
       "    .dataframe tbody tr th {\n",
       "        vertical-align: top;\n",
       "    }\n",
       "\n",
       "    .dataframe thead th {\n",
       "        text-align: right;\n",
       "    }\n",
       "</style>\n",
       "<table border=\"1\" class=\"dataframe\">\n",
       "  <thead>\n",
       "    <tr style=\"text-align: right;\">\n",
       "      <th></th>\n",
       "      <th>vendor_id</th>\n",
       "      <th>Churn</th>\n",
       "      <th>customer</th>\n",
       "      <th>percentage churn</th>\n",
       "    </tr>\n",
       "  </thead>\n",
       "  <tbody>\n",
       "    <tr>\n",
       "      <th>count</th>\n",
       "      <td>94.000000</td>\n",
       "      <td>94.000000</td>\n",
       "      <td>94.000000</td>\n",
       "      <td>94.000000</td>\n",
       "    </tr>\n",
       "    <tr>\n",
       "      <th>mean</th>\n",
       "      <td>252.436170</td>\n",
       "      <td>5.202128</td>\n",
       "      <td>186.276596</td>\n",
       "      <td>2.566776</td>\n",
       "    </tr>\n",
       "    <tr>\n",
       "      <th>std</th>\n",
       "      <td>200.352676</td>\n",
       "      <td>6.756247</td>\n",
       "      <td>124.061414</td>\n",
       "      <td>2.177579</td>\n",
       "    </tr>\n",
       "    <tr>\n",
       "      <th>min</th>\n",
       "      <td>4.000000</td>\n",
       "      <td>0.000000</td>\n",
       "      <td>1.000000</td>\n",
       "      <td>0.000000</td>\n",
       "    </tr>\n",
       "    <tr>\n",
       "      <th>25%</th>\n",
       "      <td>104.250000</td>\n",
       "      <td>2.000000</td>\n",
       "      <td>109.250000</td>\n",
       "      <td>1.178211</td>\n",
       "    </tr>\n",
       "    <tr>\n",
       "      <th>50%</th>\n",
       "      <td>196.500000</td>\n",
       "      <td>4.000000</td>\n",
       "      <td>150.000000</td>\n",
       "      <td>2.385084</td>\n",
       "    </tr>\n",
       "    <tr>\n",
       "      <th>75%</th>\n",
       "      <td>302.250000</td>\n",
       "      <td>6.000000</td>\n",
       "      <td>234.750000</td>\n",
       "      <td>3.296087</td>\n",
       "    </tr>\n",
       "    <tr>\n",
       "      <th>max</th>\n",
       "      <td>858.000000</td>\n",
       "      <td>44.000000</td>\n",
       "      <td>649.000000</td>\n",
       "      <td>15.384615</td>\n",
       "    </tr>\n",
       "  </tbody>\n",
       "</table>\n",
       "</div>"
      ],
      "text/plain": [
       "        vendor_id      Churn    customer  percentage churn\n",
       "count   94.000000  94.000000   94.000000         94.000000\n",
       "mean   252.436170   5.202128  186.276596          2.566776\n",
       "std    200.352676   6.756247  124.061414          2.177579\n",
       "min      4.000000   0.000000    1.000000          0.000000\n",
       "25%    104.250000   2.000000  109.250000          1.178211\n",
       "50%    196.500000   4.000000  150.000000          2.385084\n",
       "75%    302.250000   6.000000  234.750000          3.296087\n",
       "max    858.000000  44.000000  649.000000         15.384615"
      ]
     },
     "execution_count": 43,
     "metadata": {},
     "output_type": "execute_result"
    }
   ],
   "source": [
    "percentage_vendor_cust = vendor_cust.merge(vendor_cust_count, on=['vendor_id'], how='left')\n",
    "percentage_vendor_cust.rename(columns={'customer_id': 'customer'}, inplace=True)\n",
    "percentage_vendor_cust['percentage churn']=percentage_vendor_cust['Churn']/percentage_vendor_cust['customer']*100\n",
    "percentage_vendor_cust.describe()"
   ]
  }
 ],
 "metadata": {
  "kernelspec": {
   "display_name": "Python 3",
   "language": "python",
   "name": "python3"
  },
  "language_info": {
   "codemirror_mode": {
    "name": "ipython",
    "version": 3
   },
   "file_extension": ".py",
   "mimetype": "text/x-python",
   "name": "python",
   "nbconvert_exporter": "python",
   "pygments_lexer": "ipython3",
   "version": "3.7.3"
  }
 },
 "nbformat": 4,
 "nbformat_minor": 2
}
